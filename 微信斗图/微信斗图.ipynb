{
 "cells": [
  {
   "cell_type": "code",
   "execution_count": 1,
   "metadata": {},
   "outputs": [
    {
     "name": "stdout",
     "output_type": "stream",
     "text": [
      "█\r"
     ]
    },
    {
     "name": "stderr",
     "output_type": "stream",
     "text": [
      "Getting uuid of QR code.\n",
      "Downloading QR code.\n",
      "Please scan the QR code to log in.\n",
      "Please press confirm on your phone.\n",
      "Loading the contact, this may take a little while.\n",
      "Login successfully as Tommy\n"
     ]
    }
   ],
   "source": [
    "import requests\n",
    "import random\n",
    "from wxpy import *\n",
    "\n",
    "\n",
    "def get_img(msg):\n",
    "    '''获取表情图并下载到本地\n",
    "    :param msg:string 表情包信息\n",
    "    :return img_name | 表情包路径\n",
    "    '''\n",
    "    # 拼出要获取的表情图地址\n",
    "    idnum = random.randint(1, 5000)\n",
    "    url = 'http://image.baidu.com/meme/api/drawer?id=' + str(idnum) + '&type=1&word=' + msg\n",
    "    \n",
    "    # 文件存储路径\n",
    "    img_name = './image/' + str(idnum) + '.jpg'\n",
    "    # 下载文件    \n",
    "    r = requests.get(url)\n",
    "    with open(img_name, 'wb') as f:\n",
    "        f.write(r.content) \n",
    "    \n",
    "    return img_name\n",
    "\n",
    "def img_reply(msg):\n",
    "    '''回复表情图信息\n",
    "    :param msg:object 接收到的群消息\n",
    "    '''\n",
    "    # 只处理文字信息\n",
    "    if msg.type == 'Text':\n",
    "        # 返回帮助内容\n",
    "        if msg.text == 'help' or msg.text == '帮助':\n",
    "            print(msg.text)\n",
    "            msg.reply_msg('斗图使用技巧： \\n ls/find/get/img/图 表情内容')\n",
    "            \n",
    "        msgarr = msg.text.split(' ')\n",
    "        # 判断是否需要返回表情图\n",
    "        img_reply_list = ['get', 'find', 'img', 'ls', '图']\n",
    "        if len(msgarr) > 1 and (msgarr[0] in img_reply_list):\n",
    "            msgarr.remove(msgarr[0])\n",
    "            # 将关键字去除后的部分拼成文字并发送获取表情图\n",
    "            msg.reply_image(get_img(''.join(msgarr).strip()))\n",
    "\n",
    "\n",
    "\n",
    "# 微信登录\n",
    "bot = Bot()  "
   ]
  },
  {
   "cell_type": "code",
   "execution_count": 4,
   "metadata": {},
   "outputs": [
    {
     "name": "stdout",
     "output_type": "stream",
     "text": [
      "<Group: 表情图>\n"
     ]
    }
   ],
   "source": [
    "# 打印来自其他好友、群聊和公众号的消息\n",
    "@bot.register(except_self=False)\n",
    "def print_others(msg):\n",
    "    print(msg)\n",
    "\n",
    "\n",
    "# 自动接受新的好友请求\n",
    "@bot.register(msg_types=FRIENDS)\n",
    "def auto_accept_friends(msg):\n",
    "    # 接受好友请求\n",
    "    new_friend = msg.card.accept()\n",
    "    # 向新的好友发送消息\n",
    "    new_friend.send('嗨，我自动接受了你的好友请求~')\n",
    "\n",
    "img_group = ensure_one(bot.groups().search('表情图'))\n",
    "print(img_group)\n",
    "# 自动发送表情\n",
    "@bot.register(img_group,except_self=False)\n",
    "def img_group_message(msg):\n",
    "    img_reply(msg)\n"
   ]
  },
  {
   "cell_type": "code",
   "execution_count": null,
   "metadata": {
    "collapsed": true
   },
   "outputs": [],
   "source": []
  }
 ],
 "metadata": {
  "kernelspec": {
   "display_name": "Python 3",
   "language": "python",
   "name": "python3"
  },
  "language_info": {
   "codemirror_mode": {
    "name": "ipython",
    "version": 3
   },
   "file_extension": ".py",
   "mimetype": "text/x-python",
   "name": "python",
   "nbconvert_exporter": "python",
   "pygments_lexer": "ipython3",
   "version": "3.6.3"
  }
 },
 "nbformat": 4,
 "nbformat_minor": 2
}
