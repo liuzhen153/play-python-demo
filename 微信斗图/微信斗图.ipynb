{
 "cells": [
  {
   "cell_type": "code",
   "execution_count": 96,
   "metadata": {},
   "outputs": [
    {
     "name": "stderr",
     "output_type": "stream",
     "text": [
      "Getting uuid of QR code.\n",
      "Downloading QR code.\n",
      "Please scan the QR code to log in.\n",
      "Please press confirm on your phone.\n",
      "LOG OUT!\n",
      "Loading the contact, this may take a little while.\n",
      "Login successfully as Tommy\n"
     ]
    }
   ],
   "source": [
    "import requests\n",
    "import random\n",
    "from wxpy import *\n",
    "import json\n",
    "import os\n",
    "import time\n",
    "import threading\n",
    "\n",
    "# 微信登录\n",
    "bot = Bot() \n"
   ]
  },
  {
   "cell_type": "code",
   "execution_count": 181,
   "metadata": {},
   "outputs": [],
   "source": [
    "\n",
    "\n",
    "def get_img(msg):\n",
    "    '''获取表情图并下载到本地\n",
    "    :param msg:string 表情包信息\n",
    "    :return img_name | 表情包路径\n",
    "    '''\n",
    "    # 拼出要获取的表情图地址\n",
    "    idnum = random.randint(1, 5000)\n",
    "    url = 'http://image.baidu.com/meme/api/drawer?id=' + str(idnum) + '&type=1&word=' + msg\n",
    "\n",
    "    # 文件存储路径\n",
    "    img_name = './image/' + str(int(time.time())) + '.jpg'\n",
    "    # 下载文件    \n",
    "    r = requests.get(url)\n",
    "\n",
    "    with open(img_name, 'wb') as f:\n",
    "        f.write(r.content) \n",
    "        \n",
    "    return img_name\n",
    "\n",
    "\n",
    "\n",
    "def get_gif(msg,type_ = 1):\n",
    "    '''获取表情图并下载到本地\n",
    "    :param msg:string 表情包信息\n",
    "    :return img_name | 表情包路径\n",
    "    '''\n",
    "    # 拼出要获取的表情图地址\n",
    "    url = 'http://image.baidu.com/meme/api/searchresult?pn=0&rn=60&gif=' + str(type_) + '&query=' + msg + '&emoji=1'\n",
    "\n",
    "    \n",
    "    # 下载文件    \n",
    "    r = requests.get(url)\n",
    "    data = json.loads(r.text)['data']['ac']\n",
    "\n",
    "    # 文件存储路径\n",
    "    idnum = random.randint(0, len(data) - 1)\n",
    "    \n",
    "    img = data[idnum]['objUrl'].replace('https', 'http')\n",
    "\n",
    "    \n",
    "        \n",
    "    headers = {\n",
    "        'Host': 'img4.imgtn.bdimg.com',\n",
    "        'User-Agent': 'Mozilla/5.0 (Macintosh; Intel Mac OS X 10_14_5) AppleWebKit/537.36 (KHTML, like Gecko) Chrome/74.0.3729.169 Safari/537.36'\n",
    "    }\n",
    "    if type_ == 1:\n",
    "        headers['Host'] = 'timgsa.baidu.com'\n",
    "    \n",
    "    img_arr = img.split('.')\n",
    "\n",
    "    # 文件存储路径\n",
    "    img_name = './image/' + str(int(time.time())) + '.' + img_arr[len(img_arr) - 1]\n",
    "\n",
    "    \n",
    "    # 下载文件    \n",
    "    r = requests.get(img, headers=headers)\n",
    "    with open(img_name, 'wb') as f:\n",
    "        f.write(r.content) \n",
    "    \n",
    "    \n",
    "    media_id = bot.upload_file(img_name)\n",
    "\n",
    "    if type_ == 1:\n",
    "        return '.gif', media_id, img_name\n",
    "    else:\n",
    "        return '', media_id, img_name\n",
    "\n",
    "\n",
    "\n",
    "def img_reply(msg):\n",
    "    t = threading.Thread(name='reply_' + str(int(time.time())), target=reply,args=(msg,))\n",
    "    t.start()\n",
    "    t.join()\n",
    "\n",
    "def reply(msg, count = 1):\n",
    "    '''回复表情图信息\n",
    "    :param msg:object 接收到的群消息\n",
    "    '''\n",
    "#     print('hi')\n",
    "    # 只处理文字信息\n",
    "    if msg.type == 'Text':\n",
    "        # 返回帮助内容\n",
    "        if msg.text == 'help' or msg.text == '帮助':\n",
    "            print(msg.text)\n",
    "            msg.reply_msg('斗图使用技巧： \\n 图 表情内容 \\n 斗 关键字 \\n 动 关键字')\n",
    "            \n",
    "        msgarr = msg.text.split(' ')\n",
    "        # 判断是否需要返回表情图\n",
    "        img_reply_list = ['图', '动', '斗']\n",
    "        reply_ret = False\n",
    "        \n",
    "        if len(msgarr) > 1 and (msgarr[0] in img_reply_list):\n",
    "            try:\n",
    "                key = msgarr[0]\n",
    "                msgarr.remove(msgarr[0])\n",
    "                if key == '图':\n",
    "                    print('tu')\n",
    "                    # 将关键字去除后的部分拼成文字并发送获取表情图\n",
    "                    img_name = get_img(''.join(msgarr).strip())\n",
    "                    msg.reply_image(img_name)\n",
    "                    os.remove(img_name)\n",
    "                    reply_ret = True\n",
    "                    return\n",
    "\n",
    "                if key == '斗':\n",
    "                    gif, media_id, img_name = get_gif(''.join(msgarr).strip(), 0)\n",
    "\n",
    "\n",
    "                if key == '动':\n",
    "                    gif, media_id, img_name = get_gif(''.join(msgarr).strip())\n",
    "\n",
    "                msg.reply_image(gif, media_id=media_id)\n",
    "                os.remove(img_name)\n",
    "\n",
    "                reply_ret = True\n",
    "            except Exception as e:\n",
    "                pass\n",
    "            finally:\n",
    "                if not reply_ret and count <= 3:\n",
    "                    count += 1\n",
    "                    return reply(msg, count)\n",
    "                elif not reply_ret and count > 3:\n",
    "                    msg.reply_msg('未查到该表情包：' + ''.join(msgarr).strip())\n",
    "            \n",
    "            \n",
    "\n",
    "# 打印来自其他好友、群聊和公众号的消息\n",
    "@bot.register(except_self=False)\n",
    "def print_others(msg):\n",
    "    print(msg)\n",
    "\n",
    "\n",
    "# 自动接受新的好友请求\n",
    "@bot.register(msg_types=FRIENDS)\n",
    "def auto_accept_friends(msg):\n",
    "    # 接受好友请求\n",
    "    new_friend = msg.card.accept()\n",
    "    # 向新的好友发送消息\n",
    "    new_friend.send('嗨，我自动接受了你的好友请求~')\n",
    "\n",
    "\n",
    "# get_img('蔡徐坤')"
   ]
  },
  {
   "cell_type": "code",
   "execution_count": 182,
   "metadata": {},
   "outputs": [
    {
     "name": "stdout",
     "output_type": "stream",
     "text": [
      "<Group: 表情图>\n"
     ]
    }
   ],
   "source": [
    "img_group = ensure_one(bot.groups().search('表情图'))\n",
    "print(img_group)\n",
    "# 自动发送表情\n",
    "@bot.register(img_group,except_self=False)\n",
    "def img_group_message(msg):\n",
    "    print(msg)\n",
    "    img_reply(msg)\n"
   ]
  },
  {
   "cell_type": "code",
   "execution_count": 183,
   "metadata": {},
   "outputs": [
    {
     "name": "stdout",
     "output_type": "stream",
     "text": [
      "<Group: 吃饭>\n",
      "tu\n",
      "tu\n",
      "tu\n"
     ]
    }
   ],
   "source": [
    "\n",
    "chifan_group = ensure_one(bot.groups().search('吃饭'))\n",
    "print(chifan_group)\n",
    "\n",
    "# 自动发送表情\n",
    "@bot.register(chifan_group,except_self=False)\n",
    "def chifan_group_message(msg):\n",
    "    img_reply(msg)"
   ]
  },
  {
   "cell_type": "code",
   "execution_count": null,
   "metadata": {},
   "outputs": [],
   "source": []
  },
  {
   "cell_type": "code",
   "execution_count": 153,
   "metadata": {},
   "outputs": [
    {
     "name": "stdout",
     "output_type": "stream",
     "text": [
      "[<Group: 表情图>, <Group: 百度员工专属群 | 一食之间>, <Group: 吃饭>, <Group: 為人民服霧>]\n"
     ]
    }
   ],
   "source": [
    "print(bot.groups())"
   ]
  },
  {
   "cell_type": "code",
   "execution_count": null,
   "metadata": {
    "collapsed": true
   },
   "outputs": [],
   "source": []
  }
 ],
 "metadata": {
  "kernelspec": {
   "display_name": "Python 3",
   "language": "python",
   "name": "python3"
  },
  "language_info": {
   "codemirror_mode": {
    "name": "ipython",
    "version": 3
   },
   "file_extension": ".py",
   "mimetype": "text/x-python",
   "name": "python",
   "nbconvert_exporter": "python",
   "pygments_lexer": "ipython3",
   "version": "3.6.3"
  }
 },
 "nbformat": 4,
 "nbformat_minor": 2
}
